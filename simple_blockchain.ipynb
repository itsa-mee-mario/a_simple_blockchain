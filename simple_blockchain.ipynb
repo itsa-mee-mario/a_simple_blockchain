{
 "cells": [
  {
   "cell_type": "markdown",
   "metadata": {},
   "source": [
    "# All about blockchain, from scratch.\n",
    "In this notebook, I will document the process of learning everyhing I can about blockchain, and then implement in python using resources I find online. I hope this can provide a clear explanation for anyone wanting to learn about this tech."
   ]
  },
  {
   "cell_type": "markdown",
   "metadata": {},
   "source": [
    "# What is Bitcoin?\n",
    "Bitcoin is a cryptocurrency. It is a digital currency that is used to pay for goods and services. It is a decentralized digital currency that is controlled by a network of computers.\n",
    "\n",
    "# How does it work?\n",
    "Bitcoin is a decentralized digital currency. It is a peer-to-peer network. It is a network of computers that are connected to each other. The computers are called nodes. \n",
    "\n",
    "# what is a blockchain?\n",
    "A blockchain is a distributed database of information. It is a record of all the transactions that have happened on the network.\n",
    "\n",
    "# what? why? youre just using fancy words now.\n",
    "Blockchains are typically managed by a peer-to-peer network (no centeral servers) for use as a publicly distributed ledger (just like in english, a collection of some kind of records), where nodes (computers connected to the system) collectively adhere to a protocol (set of rules) to communicate and validate new blocks (you can pay someone only if you have money, the blockchain verifies this). Although blockchain records are not unalterable as forks (deviations in the chain) are possible, blockchains may be considered secure by design (we will get to this) and exemplify a distributed computing system with high Byzantine fault tolerance (https://en.wikipedia.org/wiki/Byzantine_fault).\n",
    "\n",
    "\n",
    "# What is a block?\n",
    "A block is a piece of data that is stored in a blockchain. Each block contains a cryptographic hash of the previous block, a timestamp, and a list of transactions.\n",
    "\n",
    "# what happens when you mine a block?\n",
    "When you mine a block, you are creating a new block. You are adding a new block to the blockchain.\n",
    "\n",
    "# what do you mean by mining a block?\n",
    "Mining a block is the process of finding a valid hash for a block.\n",
    "\n",
    "# why do you need to find a valid hash?\n",
    "To ensure that the block is valid, the hash of the previous block must be valid.\n",
    "\n",
    "# how do you find a valid hash?\n",
    "The hash of a block is the result of a cryptographic hash function. The hash function is used to create a unique value for a block. This value is used to identify the block. To find a valid hash, you must find a nonce that produces a valid hash. A nonce is a number that is added to the block to create a valid hash.\n",
    "\n",
    "# what happens if a blockchain forks?\n",
    "If a blockchain forks, the new blockchain will be the longest chain. The longest chain is the chain with the most blocks. \n",
    "\n",
    "# what is proof of work?\n",
    "It is a way to ensure that the hash of a block is valid. It works because it is a very difficult problem to find a valid hash, and if a block with an invalid hash is found, it will be rejected. This ensures that the miner has put in the \"work\" to find a valid hash.\n",
    "\n",
    "# what is block time?\n",
    "It is the amount of time it takes to find a valid hash for a block.\n",
    "\n",
    "# what is a consensus? \n",
    "Consensus is the process of determining which chain is the longest chain.\n",
    "\n",
    "# what does difficulty mean?\n",
    "Difficulty is the amount of work required to find a valid hash for a block. The way this is implemented is by required a valid hash to begin with a certain number of zeros. For example, if difficulty is set to 4, then the hash must begin with four zeros.\n",
    "\n",
    "# what is a mining reward?\n",
    "A mining reward is the amount of money that is given to the miner when a block is successfully mined.\n"
   ]
  },
  {
   "cell_type": "code",
   "execution_count": 22,
   "metadata": {},
   "outputs": [],
   "source": [
    "# implement a simple blockchain in python\n",
    "import hashlib\n",
    "import datetime\n",
    "\n",
    "# to start, we create a blockchain class that initializes with a genesis block\n",
    "class BlockChain:\n",
    "    def __init__(self):\n",
    "        self.chain = [self.create_genesis_block()]\n",
    "        self.difficulty = 6\n",
    "        self.data = []\n",
    "        self.mining_reward = 100\n",
    "\n",
    "    # create the genesis block\n",
    "    def create_genesis_block(self):\n",
    "        return Block(0, datetime.datetime.now(), \"Genesis Block\", 0, \"0\")\n",
    "\n",
    "    # create a new block\n",
    "    def create_block(self, proof, previous_hash):\n",
    "        self.data = input(\"Enter data: \")\n",
    "        block = Block(len(self.chain), datetime.datetime.now(), self.data, proof, previous_hash)\n",
    "        self.chain.append(block)\n",
    "        return block\n",
    "\n",
    "    # get the last block in the chain\n",
    "    def get_previous_block(self):\n",
    "        return self.chain[-1]\n",
    "\n",
    "    # get the last block in the chain\n",
    "    def proof_of_work(self, previous_proof):\n",
    "        new_proof = 1\n",
    "        check_proof = False\n",
    "        while not check_proof:\n",
    "            hash_operation = hashlib.sha256(str(new_proof**2 - previous_proof**2).encode()).hexdigest()\n",
    "            if hash_operation[:self.difficulty] == '0'*self.difficulty:\n",
    "                check_proof = True\n",
    "            else:\n",
    "                new_proof += 1\n",
    "        return new_proof\n",
    "    \n",
    "    def check_chain_validity(self, chain):\n",
    "        previous_block = chain[0]\n",
    "        block_index = 1\n",
    "        while block_index < len(chain):\n",
    "            block = chain[block_index]\n",
    "            if block.previous_hash != self.hash(previous_block):\n",
    "                return False\n",
    "            previous_proof = previous_block.proof\n",
    "            proof = block.proof\n",
    "            hash_operation = hashlib.sha256(str(proof**2 - previous_proof**2).encode()).hexdigest()\n",
    "            if hash_operation[:self.difficulty] != '0'*self.difficulty:\n",
    "                return False\n",
    "            previous_block = block\n",
    "            block_index += 1\n",
    "        return True\n",
    "\n",
    "    def get_last_block(self):\n",
    "        return self.chain[-1]\n",
    "    \n",
    "    def hash(self, block):\n",
    "        sha = hashlib.sha256()\n",
    "        string = str(block.index) + str(block.timestamp) + str(block.data) + str(block.proof) + str(block.previous_hash)\n",
    "        string = string.encode('utf-8')\n",
    "        sha.update(string)\n",
    "        return sha.hexdigest()\n",
    "\n",
    "    \n",
    "\n",
    "# hmm, but this doesnt make sense without having a class Block\n",
    "# so we create a class block\n",
    "\n",
    "class Block:\n",
    "    def __init__(self, index, timestamp, data, proof, previous_hash):\n",
    "        self.index = index\n",
    "        self.timestamp = timestamp\n",
    "        self.data = data\n",
    "        self.proof = proof\n",
    "        self.previous_hash = previous_hash\n",
    "\n",
    "    # this is a method that returns the hash of the block\n",
    "    def hash(self):\n",
    "        sha = hashlib.sha256()\n",
    "        string = str(self.index) + str(self.timestamp) + str(self.data) + str(self.proof) + str(self.previous_hash)\n",
    "        string = string.encode('utf-8')\n",
    "        sha.update(string)\n",
    "        return sha.hexdigest()\n",
    "\n",
    "\n",
    "def mine_block(blockchain):\n",
    "    last_block = blockchain.get_previous_block()\n",
    "    last_proof = last_block.proof\n",
    "    proof = blockchain.proof_of_work(last_proof)\n",
    "    previous_hash = blockchain.hash(last_block)\n",
    "    block = blockchain.create_block(proof, previous_hash)\n",
    "    return block\n",
    "\n",
    "def get_transaction_value():\n",
    "    tx_recipient = input(\"Enter the recipient of the transaction: \")\n",
    "    tx_amount = float(input(\"Enter the amount of the transaction: \"))\n",
    "    return (tx_recipient, tx_amount)\n",
    "\n",
    "def get_chain(blockchain):\n",
    "    for block in blockchain.chain:\n",
    "        print(\"Block #{}\".format(block.index))\n",
    "        print(\"Timestamp: {}\".format(block.timestamp))\n",
    "        print(\"Data: {}\".format(block.data))\n",
    "        print(\"Previous Hash: {}\".format(block.previous_hash))\n",
    "        print(\"Proof: {}\".format(block.proof))\n",
    "        print(\"Hash: {}\\n\".format(block.hash()))\n",
    "\n"
   ]
  },
  {
   "cell_type": "code",
   "execution_count": 23,
   "metadata": {},
   "outputs": [
    {
     "name": "stdout",
     "output_type": "stream",
     "text": [
      "Block #0\n",
      "Timestamp: 2022-02-16 19:16:26.572271\n",
      "Data: Genesis Block\n",
      "Previous Hash: 0\n",
      "Proof: 0\n",
      "Hash: 3b29cb506dfb0e2952d9157b949a6ff25fd5af6b5afc39243bda67f572512ee4\n",
      "\n"
     ]
    }
   ],
   "source": [
    "# test the blockchain by creating it and mining a block\n",
    "\n",
    "blockchain = BlockChain()\n",
    "get_chain(blockchain)\n",
    "\n"
   ]
  },
  {
   "cell_type": "code",
   "execution_count": 24,
   "metadata": {},
   "outputs": [
    {
     "data": {
      "text/plain": [
       "<__main__.Block at 0x7fdbd854f880>"
      ]
     },
     "execution_count": 24,
     "metadata": {},
     "output_type": "execute_result"
    }
   ],
   "source": [
    "# mine a block\n",
    "mine_block(blockchain)"
   ]
  },
  {
   "cell_type": "code",
   "execution_count": 25,
   "metadata": {},
   "outputs": [
    {
     "name": "stdout",
     "output_type": "stream",
     "text": [
      "Block #0\n",
      "Timestamp: 2022-02-16 19:16:26.572271\n",
      "Data: Genesis Block\n",
      "Previous Hash: 0\n",
      "Proof: 0\n",
      "Hash: 3b29cb506dfb0e2952d9157b949a6ff25fd5af6b5afc39243bda67f572512ee4\n",
      "\n",
      "Block #1\n",
      "Timestamp: 2022-02-16 19:16:54.907980\n",
      "Data: hello\n",
      "Previous Hash: 3b29cb506dfb0e2952d9157b949a6ff25fd5af6b5afc39243bda67f572512ee4\n",
      "Proof: 15053494\n",
      "Hash: a7bc3c66c24896ab2ba61ea4c99316489551e24998aba5e4f60c9f81749e6b5d\n",
      "\n"
     ]
    }
   ],
   "source": [
    "get_chain(blockchain)"
   ]
  },
  {
   "cell_type": "code",
   "execution_count": null,
   "metadata": {},
   "outputs": [],
   "source": []
  }
 ],
 "metadata": {
  "interpreter": {
   "hash": "e7370f93d1d0cde622a1f8e1c04877d8463912d04d973331ad4851f04de6915a"
  },
  "kernelspec": {
   "display_name": "Python 3.10.2 64-bit",
   "language": "python",
   "name": "python3"
  },
  "language_info": {
   "codemirror_mode": {
    "name": "ipython",
    "version": 3
   },
   "file_extension": ".py",
   "mimetype": "text/x-python",
   "name": "python",
   "nbconvert_exporter": "python",
   "pygments_lexer": "ipython3",
   "version": "3.10.2"
  },
  "orig_nbformat": 4
 },
 "nbformat": 4,
 "nbformat_minor": 2
}
